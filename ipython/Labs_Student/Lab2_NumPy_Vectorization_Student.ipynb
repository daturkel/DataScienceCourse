{
 "cells": [
  {
   "cell_type": "code",
   "execution_count": 1,
   "metadata": {
    "collapsed": false,
    "jupyter": {
     "outputs_hidden": false
    }
   },
   "outputs": [],
   "source": [
    "import warnings\n",
    "warnings.filterwarnings('ignore')\n",
    "import numpy as np\n",
    "import matplotlib.pyplot as plt\n",
    "%matplotlib inline"
   ]
  },
  {
   "cell_type": "markdown",
   "metadata": {},
   "source": [
    "First we'll generate a random matrix"
   ]
  },
  {
   "cell_type": "code",
   "execution_count": 2,
   "metadata": {
    "collapsed": false,
    "jupyter": {
     "outputs_hidden": false
    }
   },
   "outputs": [
    {
     "data": {
      "text/plain": [
       "array([[0.22742904, 0.57962491, 0.8965079 , 0.10242142, 0.05595762],\n",
       "       [0.0281389 , 0.01771646, 0.40027633, 0.00524244, 0.88807334],\n",
       "       [0.0322476 , 0.35567049, 0.44890969, 0.35131625, 0.81722062],\n",
       "       ...,\n",
       "       [0.72877103, 0.05328369, 0.19941721, 0.97411206, 0.70197796],\n",
       "       [0.74621093, 0.06750039, 0.37102847, 0.92372285, 0.13211221],\n",
       "       [0.69818243, 0.26430783, 0.33722295, 0.97019887, 0.4315765 ]])"
      ]
     },
     "execution_count": 2,
     "metadata": {},
     "output_type": "execute_result"
    }
   ],
   "source": [
    "#Number of columns (features)\n",
    "K = 5\n",
    "\n",
    "#Number of records\n",
    "N = 1000\n",
    "\n",
    "#Generate an NxK matrix of uniform random variables\n",
    "X = np.random.rand(N,K) #Student: generate a uniform random matrix here\n",
    "X"
   ]
  },
  {
   "cell_type": "markdown",
   "metadata": {},
   "source": [
    "Let's peak at our data to confirm it looks as we expect it"
   ]
  },
  {
   "cell_type": "code",
   "execution_count": 3,
   "metadata": {
    "collapsed": true,
    "jupyter": {
     "outputs_hidden": true
    }
   },
   "outputs": [
    {
     "data": {
      "text/plain": [
       "array([[2.27429044e-01, 5.79624912e-01, 8.96507899e-01, 1.02421422e-01,\n",
       "        5.59576194e-02],\n",
       "       [2.81388959e-02, 1.77164590e-02, 4.00276330e-01, 5.24244442e-03,\n",
       "        8.88073343e-01],\n",
       "       [3.22475954e-02, 3.55670491e-01, 4.48909692e-01, 3.51316248e-01,\n",
       "        8.17220618e-01],\n",
       "       [6.83644264e-01, 2.77116048e-01, 5.24008044e-01, 3.26497426e-01,\n",
       "        3.24269661e-01],\n",
       "       [8.59845249e-01, 4.52034360e-01, 2.65658815e-01, 9.94087710e-01,\n",
       "        7.14569879e-01],\n",
       "       [1.50116569e-01, 3.46851572e-01, 2.97327629e-01, 5.19546504e-01,\n",
       "        9.35812101e-01],\n",
       "       [8.00245645e-01, 6.77039949e-02, 2.00623248e-01, 4.04774722e-01,\n",
       "        9.44982471e-01],\n",
       "       [9.60170292e-01, 7.56754735e-01, 8.88962179e-01, 4.40277043e-01,\n",
       "        6.87317670e-01],\n",
       "       [2.49591310e-01, 5.05388096e-01, 9.77365987e-01, 1.85856553e-01,\n",
       "        7.06534374e-01],\n",
       "       [2.08887814e-01, 6.46725787e-01, 3.03843631e-01, 5.60415677e-01,\n",
       "        5.41510823e-01],\n",
       "       [6.82343067e-01, 9.98141793e-01, 9.30877007e-01, 3.26847015e-01,\n",
       "        8.66181469e-01],\n",
       "       [2.76886805e-01, 5.34594586e-02, 3.43030263e-01, 2.73418101e-01,\n",
       "        2.89145319e-01],\n",
       "       [1.78672903e-01, 1.40951103e-02, 6.56054074e-01, 1.85786780e-01,\n",
       "        5.27485460e-01],\n",
       "       [9.98244765e-01, 4.63579477e-04, 1.24279488e-01, 6.99858118e-01,\n",
       "        5.39633738e-01],\n",
       "       [5.06473692e-01, 8.47187033e-02, 4.76336758e-01, 8.15570381e-01,\n",
       "        4.91907481e-01],\n",
       "       [2.74067427e-01, 5.11239601e-02, 2.24842862e-01, 7.95897078e-02,\n",
       "        8.50067557e-01],\n",
       "       [4.38009845e-01, 2.66236442e-01, 8.59839374e-01, 8.35317832e-01,\n",
       "        3.02589477e-01],\n",
       "       [8.56746772e-01, 3.94332739e-01, 6.99901760e-01, 4.17337252e-01,\n",
       "        4.58474819e-01],\n",
       "       [4.08497267e-01, 5.36116176e-01, 4.89077889e-01, 7.99212489e-01,\n",
       "        7.81659065e-01],\n",
       "       [9.24699453e-01, 9.37249855e-01, 9.33237889e-01, 7.55559567e-01,\n",
       "        6.27824271e-01],\n",
       "       [5.32243258e-01, 9.18376083e-01, 8.85682798e-01, 9.84205274e-01,\n",
       "        7.64438410e-01],\n",
       "       [6.38641205e-01, 2.15489195e-01, 5.05799336e-01, 2.99014373e-01,\n",
       "        5.43926074e-01],\n",
       "       [1.61356851e-01, 5.90987556e-02, 7.40642853e-01, 9.64334598e-01,\n",
       "        7.87235375e-02],\n",
       "       [3.65045550e-01, 4.95053748e-01, 8.66078300e-01, 7.71025488e-01,\n",
       "        1.29385641e-01],\n",
       "       [3.15317896e-01, 5.84468950e-01, 6.30691855e-01, 2.96009199e-01,\n",
       "        9.72186177e-01],\n",
       "       [3.16433484e-01, 8.45392620e-01, 9.15463227e-01, 4.84924864e-01,\n",
       "        3.67159242e-01],\n",
       "       [6.93509281e-01, 5.14417381e-01, 8.28946698e-01, 9.70029411e-01,\n",
       "        6.64597905e-01],\n",
       "       [3.48555559e-01, 7.34705567e-01, 5.17638499e-01, 4.55098756e-01,\n",
       "        4.91032515e-01],\n",
       "       [9.61063751e-01, 1.32287426e-01, 3.36352219e-01, 3.96131664e-01,\n",
       "        4.77648363e-01],\n",
       "       [1.19510686e-02, 2.70135110e-01, 9.61833902e-01, 6.46804258e-01,\n",
       "        7.84173657e-01],\n",
       "       [4.40626108e-01, 7.71436627e-01, 3.21111149e-01, 2.98198573e-01,\n",
       "        1.70804508e-01],\n",
       "       [2.08862113e-02, 7.36451412e-01, 8.75866689e-01, 9.98158912e-01,\n",
       "        1.81678146e-01],\n",
       "       [8.53975969e-01, 1.41795407e-01, 5.21747001e-01, 4.62733537e-01,\n",
       "        4.62240776e-02],\n",
       "       [3.57538560e-01, 7.43268362e-01, 4.26063638e-01, 5.17677933e-01,\n",
       "        9.80958032e-01],\n",
       "       [8.75242639e-01, 2.00156413e-01, 4.18004284e-01, 6.08582639e-01,\n",
       "        6.97256988e-01],\n",
       "       [3.11604332e-01, 1.25968894e-01, 3.89860321e-01, 5.29371911e-01,\n",
       "        4.08092616e-01],\n",
       "       [7.04265404e-01, 7.33240730e-01, 4.74895963e-01, 4.20744819e-01,\n",
       "        5.58188580e-01],\n",
       "       [2.18597711e-01, 2.32368240e-01, 3.31765822e-01, 8.90175589e-01,\n",
       "        1.43732146e-01],\n",
       "       [5.88382888e-01, 9.51298349e-01, 7.63857536e-01, 2.76304588e-01,\n",
       "        8.13809017e-01],\n",
       "       [6.47117478e-01, 7.58529684e-01, 6.11044032e-01, 2.68784788e-01,\n",
       "        1.32094264e-01],\n",
       "       [2.91212424e-01, 5.79390320e-01, 1.49944041e-01, 9.29902585e-01,\n",
       "        1.78291921e-02],\n",
       "       [7.38004115e-01, 5.60897739e-01, 4.37306485e-01, 9.78086458e-01,\n",
       "        2.79570571e-01],\n",
       "       [6.12922503e-02, 5.89271751e-01, 8.58313746e-01, 6.73247159e-02,\n",
       "        4.15773971e-01],\n",
       "       [7.78175874e-01, 6.01279883e-01, 2.23264649e-01, 7.84405358e-01,\n",
       "        4.70663339e-01],\n",
       "       [4.93476575e-01, 1.47721155e-01, 8.58046968e-01, 2.70474426e-02,\n",
       "        7.97337195e-01],\n",
       "       [8.24028482e-01, 9.28683681e-01, 4.46991656e-01, 3.12782102e-01,\n",
       "        7.82964897e-01],\n",
       "       [9.36603048e-01, 3.25757142e-01, 7.47178911e-01, 9.90426895e-01,\n",
       "        5.76057777e-01],\n",
       "       [2.14843651e-01, 9.16681686e-01, 9.46749881e-01, 1.11666400e-01,\n",
       "        7.30450580e-01],\n",
       "       [5.17768956e-01, 7.26015749e-01, 9.57054172e-01, 9.13302035e-01,\n",
       "        2.10647387e-01],\n",
       "       [2.57687576e-01, 7.32782545e-01, 6.80928248e-01, 4.09895638e-01,\n",
       "        4.24924216e-01],\n",
       "       [4.88554766e-01, 4.99707124e-01, 4.96649837e-01, 2.19852432e-02,\n",
       "        2.94282238e-01],\n",
       "       [9.62493467e-01, 9.69817122e-01, 5.19712724e-01, 4.88349591e-01,\n",
       "        7.42758314e-01],\n",
       "       [7.86908257e-01, 6.50436278e-01, 1.16214447e-01, 1.71893664e-01,\n",
       "        5.13853887e-01],\n",
       "       [5.05673930e-01, 6.88356555e-01, 6.02710352e-01, 3.19377866e-01,\n",
       "        2.31737805e-01],\n",
       "       [6.69964776e-01, 8.16570654e-01, 9.13906327e-01, 2.23913708e-02,\n",
       "        6.64195431e-01],\n",
       "       [6.01638310e-02, 5.06778961e-01, 5.86261851e-01, 4.37962809e-01,\n",
       "        2.13972532e-01],\n",
       "       [1.09574779e-01, 3.03393714e-01, 8.59924288e-01, 3.11859260e-01,\n",
       "        2.83953688e-01],\n",
       "       [6.35345024e-01, 9.35667460e-01, 9.49714555e-01, 2.18999724e-01,\n",
       "        7.76738042e-01],\n",
       "       [8.10454302e-01, 7.09636592e-02, 9.44775121e-01, 5.66635720e-01,\n",
       "        5.16592363e-01],\n",
       "       [7.05077170e-01, 3.49245789e-01, 7.14043194e-01, 8.38788324e-01,\n",
       "        4.82981246e-01],\n",
       "       [9.83804622e-02, 9.65421461e-01, 5.81750066e-01, 6.58930358e-01,\n",
       "        3.32434596e-01],\n",
       "       [2.72180503e-01, 9.72877043e-01, 7.96987560e-02, 8.11232109e-01,\n",
       "        4.63369955e-01],\n",
       "       [4.67643136e-01, 1.92898971e-01, 3.57836684e-01, 1.61172524e-01,\n",
       "        3.41453220e-01],\n",
       "       [6.27772548e-01, 7.43353802e-01, 6.84556494e-01, 7.51038293e-01,\n",
       "        5.83005202e-01],\n",
       "       [8.48316711e-01, 4.51225622e-01, 3.64246072e-01, 8.92952747e-01,\n",
       "        7.32464028e-01],\n",
       "       [6.08868390e-01, 5.08103935e-01, 6.92967755e-01, 6.49003152e-02,\n",
       "        2.85660431e-01],\n",
       "       [4.91388870e-01, 7.05496429e-02, 5.45911317e-01, 2.86051853e-01,\n",
       "        2.98373762e-01],\n",
       "       [1.43900739e-03, 9.86460181e-01, 4.23475877e-01, 9.82051478e-01,\n",
       "        4.99567735e-01],\n",
       "       [9.18473308e-01, 4.50225736e-01, 6.80818580e-01, 1.93790174e-01,\n",
       "        4.58425708e-01],\n",
       "       [1.52690905e-01, 9.66639418e-01, 8.50730585e-01, 7.80381957e-01,\n",
       "        1.34162841e-03],\n",
       "       [1.74372769e-01, 6.06265429e-01, 2.55331265e-01, 5.93055342e-01,\n",
       "        3.61926850e-02],\n",
       "       [3.12474088e-01, 5.46561479e-01, 7.19569542e-01, 1.90023814e-01,\n",
       "        7.96149758e-01],\n",
       "       [1.33999934e-02, 4.76020928e-01, 8.75680447e-01, 7.96771548e-01,\n",
       "        2.40891475e-01],\n",
       "       [3.17959922e-01, 8.07051010e-01, 6.19159346e-01, 4.45362734e-01,\n",
       "        3.65667511e-01],\n",
       "       [4.56115689e-01, 4.15321506e-01, 6.65319303e-02, 8.58086254e-01,\n",
       "        8.77797178e-01],\n",
       "       [2.96663716e-01, 9.19072587e-01, 5.66047715e-02, 4.24087941e-01,\n",
       "        8.54090993e-01],\n",
       "       [7.53714646e-01, 7.67657587e-01, 1.52658577e-01, 4.50968462e-01,\n",
       "        9.53132662e-01],\n",
       "       [1.58698364e-02, 6.62906196e-01, 1.42208739e-01, 7.55067720e-01,\n",
       "        8.53034542e-01],\n",
       "       [4.84118297e-01, 6.20403377e-01, 3.69493535e-01, 6.56231164e-01,\n",
       "        4.67943316e-01],\n",
       "       [2.61813586e-01, 4.00209222e-02, 5.26051207e-01, 1.00137676e-01,\n",
       "        7.18491035e-01],\n",
       "       [4.99321462e-01, 1.42692083e-01, 3.56468166e-01, 2.30240544e-01,\n",
       "        7.11724927e-01],\n",
       "       [6.76726178e-01, 1.68599313e-01, 4.88041213e-02, 7.07544062e-01,\n",
       "        6.20193435e-01],\n",
       "       [8.56457583e-01, 1.15768547e-01, 4.91230046e-02, 1.28287449e-02,\n",
       "        6.14191354e-01],\n",
       "       [7.14178938e-01, 6.56337632e-01, 6.65863865e-02, 5.55125683e-01,\n",
       "        6.39401071e-02],\n",
       "       [3.07966943e-01, 3.64342069e-01, 5.32544918e-01, 9.78797208e-02,\n",
       "        7.15129056e-01],\n",
       "       [9.52761140e-01, 8.24006883e-01, 6.88976176e-01, 4.26066420e-02,\n",
       "        1.36727945e-02],\n",
       "       [4.04565211e-01, 5.19969645e-02, 3.61301629e-01, 9.26918560e-01,\n",
       "        6.68439284e-01],\n",
       "       [8.01061276e-01, 5.06346007e-01, 4.92323089e-01, 2.24108742e-01,\n",
       "        8.77740504e-01],\n",
       "       [6.78908755e-01, 4.07525931e-01, 3.50789856e-02, 7.64173753e-01,\n",
       "        7.15982840e-02],\n",
       "       [1.13331887e-01, 4.07697492e-01, 3.11626205e-01, 5.52470953e-01,\n",
       "        8.52702116e-01],\n",
       "       [2.56024532e-01, 8.28644655e-01, 4.16302872e-01, 1.33213887e-01,\n",
       "        1.83263821e-01],\n",
       "       [6.71403813e-01, 7.88482500e-01, 8.21373948e-01, 5.34880682e-01,\n",
       "        9.91368365e-01],\n",
       "       [1.94359428e-01, 2.92502484e-01, 3.25206238e-01, 1.71735789e-01,\n",
       "        5.26248886e-02],\n",
       "       [2.23855694e-01, 3.95155646e-01, 5.51959150e-01, 2.47120042e-01,\n",
       "        2.19458412e-01],\n",
       "       [4.48738058e-01, 6.82721767e-01, 2.97824404e-01, 6.75361293e-02,\n",
       "        1.13646222e-02],\n",
       "       [1.14139555e-01, 6.12526955e-01, 2.79880007e-02, 7.01692048e-01,\n",
       "        5.67897205e-01],\n",
       "       [5.17710392e-01, 5.81874114e-01, 4.78096155e-01, 4.14486040e-01,\n",
       "        3.44595761e-01],\n",
       "       [6.98333062e-01, 6.06091295e-01, 2.79386081e-01, 7.66628651e-01,\n",
       "        9.97971139e-01],\n",
       "       [2.30115187e-01, 7.81514373e-01, 9.16065879e-02, 3.31446705e-01,\n",
       "        6.82521845e-01],\n",
       "       [3.74418099e-01, 6.25114891e-01, 6.56389779e-01, 2.39616752e-01,\n",
       "        8.29151006e-01]])"
      ]
     },
     "execution_count": 3,
     "metadata": {},
     "output_type": "execute_result"
    }
   ],
   "source": [
    "#Student - Put in a command to view the first 100 rows\n",
    "X[:100]"
   ]
  },
  {
   "cell_type": "code",
   "execution_count": 4,
   "metadata": {
    "collapsed": false,
    "jupyter": {
     "outputs_hidden": false
    }
   },
   "outputs": [
    {
     "data": {
      "text/plain": [
       "(1000, 5)"
      ]
     },
     "execution_count": 4,
     "metadata": {},
     "output_type": "execute_result"
    }
   ],
   "source": [
    "#Student - put in a command to see the dimensions of X\n",
    "X.shape"
   ]
  },
  {
   "cell_type": "markdown",
   "metadata": {},
   "source": [
    "This exercise is about designing a scoring function for a logistic regression. As we are not concerned with fitting a model to data, we can just make up a logistic regression. <br> <br>\n",
    "\n",
    "For quick intro, the Logistic Regression takes the form of $\\hat{Y} = f(x * \\beta^T)$, where $x$ is the $1xK$ vector of features and $\\beta$ is the $1xK$ vector of weights. The function $f$, called a 'link' function, is the inverse logit: <br><br>\n",
    "\n",
    "<center>$f(a)=\\frac{1}{1+e^{-a}}$</center> <br><br>\n",
    "\n",
    "In this notebook we'll write a function that, given inputs of $X$ and $\\beta$, returns a value for $\\hat{Y}$.\n",
    "<br><br>\n",
    "First let's generate a random set of weights to represent $\\beta$.\n"
   ]
  },
  {
   "cell_type": "code",
   "execution_count": 13,
   "metadata": {
    "collapsed": false,
    "jupyter": {
     "outputs_hidden": false
    }
   },
   "outputs": [
    {
     "data": {
      "text/plain": [
       "array([ 0.61274379, -0.72897367, -0.04410014,  0.94880048,  0.06041843])"
      ]
     },
     "execution_count": 13,
     "metadata": {},
     "output_type": "execute_result"
    }
   ],
   "source": [
    "#Student - generate a K dimensional vector of uniform random variables in the interval [-1, 1]\n",
    "beta = 2*np.random.rand(K) - 1\n",
    "beta"
   ]
  },
  {
   "cell_type": "markdown",
   "metadata": {},
   "source": [
    "Notice how we applied a neat NumPy trick here. The numpy.random.random() function returns an array, yet we applied what appears to be a scalar operation on the vector. This is an example of what NumPy calls vectorization (a major point of this tutorial), which offers us both a very fast way to do run vector computations as well as a clean and concise method of coding. \n",
    "\n",
    "<br><br>\n",
    "\n",
    "<b>Question: we designed the above $beta$ vector such that $E[\\beta_i]=0$. How can we confirm that we did this correctly?</b>"
   ]
  },
  {
   "cell_type": "code",
   "execution_count": 14,
   "metadata": {
    "collapsed": false,
    "jupyter": {
     "outputs_hidden": false
    }
   },
   "outputs": [
    {
     "data": {
      "text/plain": [
       "0.16977777695866564"
      ]
     },
     "execution_count": 14,
     "metadata": {},
     "output_type": "execute_result"
    }
   ],
   "source": [
    "#start by taking the mean of the beta we already calculated\n",
    "\n",
    "#Student - fill in command here\n",
    "\n",
    "beta.mean()"
   ]
  },
  {
   "cell_type": "code",
   "execution_count": 15,
   "metadata": {
    "collapsed": false,
    "jupyter": {
     "outputs_hidden": false
    }
   },
   "outputs": [],
   "source": [
    "#It is likely the above is not equal to zero. Let's simulate this 100k times and see what the distribution of means is\n",
    "#Student input code here\n",
    "means = [(2*np.random.rand(K)-1).mean() for i in range(100000)]"
   ]
  },
  {
   "cell_type": "markdown",
   "metadata": {},
   "source": [
    "Now let's use matplotlibs hist function to plot the histogram of means here. "
   ]
  },
  {
   "cell_type": "code",
   "execution_count": 16,
   "metadata": {
    "collapsed": false,
    "jupyter": {
     "outputs_hidden": false
    }
   },
   "outputs": [
    {
     "data": {
      "image/png": "[encoded data removed]",
      "text/plain": [
       "<Figure size 432x288 with 1 Axes>"
      ]
     },
     "metadata": {
      "needs_background": "light"
     },
     "output_type": "display_data"
    }
   ],
   "source": [
    "plt.hist(means)\n",
    "plt.show()"
   ]
  },
  {
   "cell_type": "markdown",
   "metadata": {},
   "source": [
    "We should expect the distribution to be centered around zero. Is it? As fun technical side, let's dive a little deeper into what this distribution should look like. The histogram shows a distribution of the average of a sample of 5 uniformly distributed random variables taken over N different samples. Can we compare this to a theoretical distribution?<br>\n",
    "\n",
    "Yes we can! We sampled each $\\beta_i$ from a uniform distribution over the interval $[-1, 1]$. The variance of a sample of uniformly distributed variables is given by $(1/12) * (b - a)^2$, where $b$ and $a$ are the min/max of the support interval. The standard error (or the standard deviation of the mean) of a sample of size K with with $Var(X) = \\sigma^2$ is $\\sigma / \\sqrt(K)$. <br>\n",
    "\n",
    "Given the above knowledge, we should expect our distribution of averages to be normally distributed with mean = 0 and var = $(12 * 5)^{-1} * (1 - (-1))^2 = 0. 66667$. Let's compare this normal distribution to our sample above."
   ]
  },
  {
   "cell_type": "code",
   "execution_count": 28,
   "metadata": {},
   "outputs": [
    {
     "data": {
      "image/png": "[encoded data removed]",
      "text/plain": [
       "<Figure size 432x288 with 1 Axes>"
      ]
     },
     "metadata": {
      "needs_background": "light"
     },
     "output_type": "display_data"
    }
   ],
   "source": [
    "#Compute a vector from the normal distribution specified above\n",
    "from scipy.stats import norm\n",
    "mu = 0\n",
    "sig = np.sqrt(4 / 60.0) \n",
    "xs = np.linspace(-1, 1, 1000)\n",
    "ys = norm.pdf(xs, mu, sig) \n",
    "\n",
    "plt.hist(means, bins=100, density=True)\n",
    "plt.plot(xs, ys)\n",
    "plt.show()\n"
   ]
  },
  {
   "cell_type": "markdown",
   "metadata": {},
   "source": [
    "Now let's write our scoring function. Let's try to use as much of Numpy's inner optimization as possible (hint, this can be done in two lines and without writing any loops). The key is that numpy functions that would normally take in a scalar can also take in an array, and the function applies the operations element wise to the array and returns an array. i.e.:"
   ]
  },
  {
   "cell_type": "code",
   "execution_count": 29,
   "metadata": {},
   "outputs": [
    {
     "data": {
      "text/plain": [
       "array([1, 1])"
      ]
     },
     "execution_count": 29,
     "metadata": {},
     "output_type": "execute_result"
    }
   ],
   "source": [
    "ex_array = np.array([-1, 1])\n",
    "np.abs(ex_array)"
   ]
  },
  {
   "cell_type": "markdown",
   "metadata": {},
   "source": [
    "Let's use this feature to write a fast and clean scoring function"
   ]
  },
  {
   "cell_type": "code",
   "execution_count": 30,
   "metadata": {},
   "outputs": [],
   "source": [
    "def score_logistic_regression(X, beta):\n",
    "    '''\n",
    "    This function takes in an NxK matrix X and 1xK vector beta.\n",
    "    The function should apply the logistic scoring function to each record of X.\n",
    "    The output should be an Nx1 vector of scores\n",
    "    '''\n",
    "    \n",
    "    #First let's calculate X*beta - make sure to use numpy's 'dot' method\n",
    "    a = X.dot(beta)\n",
    "    \n",
    "    #Now let's input this into the link function\n",
    "    prob_score = 1 / (1 + np.exp(-a))\n",
    "    \n",
    "    return prob_score"
   ]
  },
  {
   "cell_type": "markdown",
   "metadata": {},
   "source": [
    "So how much faster is it by using Numpy? We can test this be writing the same function that uses no Numpy and executes via loops."
   ]
  },
  {
   "cell_type": "code",
   "execution_count": 37,
   "metadata": {
    "collapsed": false,
    "jupyter": {
     "outputs_hidden": false
    }
   },
   "outputs": [],
   "source": [
    "from math import exp\n",
    "\n",
    "def score_logistic_regression_NoNumpy(X, beta):\n",
    "    '''\n",
    "    This function takes in an NxK matrix X and 1xK vector beta.\n",
    "    The function should apply the logistic scoring function to each record of X.\n",
    "    The output should be an Nx1 vector of scores\n",
    "    '''\n",
    "    #Let's calculate xbeta using loops\n",
    "    xbeta = []\n",
    "    for row in X:\n",
    "        \n",
    "        xb = 0\n",
    "        for i, el in enumerate(row):\n",
    "            #Student - compute X*Beta in the loop\n",
    "            xb += el * beta[i]\n",
    "        \n",
    "        xbeta.append(xb)\n",
    "        \n",
    "    #Now let's apply the link function to each xbeta\n",
    "    prob_score = []\n",
    "    for xb in xbeta:\n",
    "        #student - compute p in the loop\n",
    "        p = 1 / (1 + exp(-xb))\n",
    "        prob_score.append(p)\n",
    "        \n",
    "    return prob_score"
   ]
  },
  {
   "cell_type": "markdown",
   "metadata": {},
   "source": [
    "Before doing any analysis, let's test the output of each to make sure they equal"
   ]
  },
  {
   "cell_type": "code",
   "execution_count": 39,
   "metadata": {
    "collapsed": false,
    "jupyter": {
     "outputs_hidden": false
    }
   },
   "outputs": [
    {
     "data": {
      "text/plain": [
       "True"
      ]
     },
     "execution_count": 39,
     "metadata": {},
     "output_type": "execute_result"
    }
   ],
   "source": [
    "#Student - write a unit test that calls each function with the same inputs and checks to see they return the same values. \n",
    "def test_methods(X, beta):\n",
    "    return all(np.isclose(score_logistic_regression(X, beta), score_logistic_regression_NoNumpy(X,beta)))\n",
    "\n",
    "test_methods(X,beta)"
   ]
  },
  {
   "cell_type": "markdown",
   "metadata": {},
   "source": [
    "If they equal then we can proceed with timing analysis"
   ]
  },
  {
   "cell_type": "code",
   "execution_count": 40,
   "metadata": {
    "collapsed": false,
    "jupyter": {
     "outputs_hidden": false
    }
   },
   "outputs": [
    {
     "name": "stdout",
     "output_type": "stream",
     "text": [
      "3.54 ms ± 74.1 µs per loop (mean ± std. dev. of 7 runs, 100 loops each)\n"
     ]
    }
   ],
   "source": [
    "%timeit score_logistic_regression_NoNumpy(X, beta)"
   ]
  },
  {
   "cell_type": "code",
   "execution_count": 41,
   "metadata": {
    "collapsed": false,
    "jupyter": {
     "outputs_hidden": false
    }
   },
   "outputs": [
    {
     "name": "stdout",
     "output_type": "stream",
     "text": [
      "19.4 µs ± 49.3 ns per loop (mean ± std. dev. of 7 runs, 10000 loops each)\n"
     ]
    }
   ],
   "source": [
    "%timeit score_logistic_regression(X, beta)"
   ]
  }
 ],
 "metadata": {
  "anaconda-cloud": {},
  "kernelspec": {
   "display_name": "Python 3",
   "language": "python",
   "name": "python3"
  },
  "language_info": {
   "codemirror_mode": {
    "name": "ipython",
    "version": 3
   },
   "file_extension": ".py",
   "mimetype": "text/x-python",
   "name": "python",
   "nbconvert_exporter": "python",
   "pygments_lexer": "ipython3",
   "version": "3.7.3"
  }
 },
 "nbformat": 4,
 "nbformat_minor": 4
}
